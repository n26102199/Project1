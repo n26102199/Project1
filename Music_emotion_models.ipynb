{
 "cells": [
  {
   "cell_type": "code",
   "execution_count": 1,
   "metadata": {},
   "outputs": [
    {
     "name": "stdout",
     "output_type": "stream",
     "text": [
      "Cloning into 'Music-emotion'...\n",
      "remote: Enumerating objects: 490, done.\u001b[K\n",
      "remote: Counting objects: 100% (3/3), done.\u001b[K\n",
      "remote: Total 490 (delta 0), reused 3 (delta 0), pack-reused 487\u001b[K\n",
      "Receiving objects: 100% (490/490), 520.56 MiB | 14.24 MiB/s, done.\n",
      "Updating files: 100% (457/457), done.\n"
     ]
    }
   ],
   "source": [
    "!git clone https://github.com/IanChen5273/Music-emotion.git"
   ]
  },
  {
   "cell_type": "code",
   "execution_count": 2,
   "metadata": {
    "id": "KmdlS2pOijVX"
   },
   "outputs": [
    {
     "name": "stdout",
     "output_type": "stream",
     "text": [
      "WARNING:tensorflow:Deprecation warnings have been disabled. Set TF_ENABLE_DEPRECATION_WARNINGS=1 to re-enable them.\n"
     ]
    },
    {
     "name": "stderr",
     "output_type": "stream",
     "text": [
      "2021-11-25 16:04:59.917129: I tensorflow/stream_executor/platform/default/dso_loader.cc:49] Successfully opened dynamic library libcudart.so.11.0\n"
     ]
    },
    {
     "name": "stdout",
     "output_type": "stream",
     "text": [
      "[PhysicalDevice(name='/physical_device:GPU:0', device_type='GPU')]\n"
     ]
    },
    {
     "name": "stderr",
     "output_type": "stream",
     "text": [
      "2021-11-25 16:05:00.790871: I tensorflow/stream_executor/platform/default/dso_loader.cc:49] Successfully opened dynamic library libcuda.so.1\n",
      "2021-11-25 16:05:01.410393: I tensorflow/core/common_runtime/gpu/gpu_device.cc:1666] Found device 0 with properties: \n",
      "name: RTX A6000 major: 8 minor: 6 memoryClockRate(GHz): 1.8\n",
      "pciBusID: 0000:01:00.0\n",
      "2021-11-25 16:05:01.410425: I tensorflow/stream_executor/platform/default/dso_loader.cc:49] Successfully opened dynamic library libcudart.so.11.0\n",
      "2021-11-25 16:05:01.414294: I tensorflow/stream_executor/platform/default/dso_loader.cc:49] Successfully opened dynamic library libcublas.so.11\n",
      "2021-11-25 16:05:01.416016: I tensorflow/stream_executor/platform/default/dso_loader.cc:49] Successfully opened dynamic library libcufft.so.10\n",
      "2021-11-25 16:05:01.416220: I tensorflow/stream_executor/platform/default/dso_loader.cc:49] Successfully opened dynamic library libcurand.so.10\n",
      "2021-11-25 16:05:01.416644: I tensorflow/stream_executor/platform/default/dso_loader.cc:49] Successfully opened dynamic library libcusolver.so.11\n",
      "2021-11-25 16:05:01.417338: I tensorflow/stream_executor/platform/default/dso_loader.cc:49] Successfully opened dynamic library libcusparse.so.11\n",
      "2021-11-25 16:05:01.417449: I tensorflow/stream_executor/platform/default/dso_loader.cc:49] Successfully opened dynamic library libcudnn.so.8\n",
      "2021-11-25 16:05:01.421936: I tensorflow/core/common_runtime/gpu/gpu_device.cc:1794] Adding visible gpu devices: 0\n"
     ]
    }
   ],
   "source": [
    "import os\n",
    "os.environ[\"CUDA_VISIBLE_DEVICES\"] = \"0\"\n",
    "import tensorflow as tf\n",
    "gpus = tf.config.experimental.list_physical_devices('GPU')\n",
    "print(gpus)\n",
    "if gpus:\n",
    "    try:\n",
    "      #tf.config.experimental.set_virtual_devices('GPU')\n",
    "      for gpu in gpus:\n",
    "          tf.config.experimental.set_memory_growth(gpu, True)\n",
    "    except RuntimeError as e:\n",
    "        print(e)\n",
    "        "
   ]
  },
  {
   "cell_type": "code",
   "execution_count": 3,
   "metadata": {
    "id": "KmdlS2pOijVX"
   },
   "outputs": [],
   "source": [
    "import joblib\n",
    "import librosa\n",
    "import numpy as np\n",
    "from sklearn import svm\n",
    "from sklearn.model_selection import train_test_split\n",
    "from tensorflow.keras.utils import to_categorical\n",
    "from tensorflow.keras.models import Model, load_model\n",
    "from tensorflow.keras.layers import Input, Conv2D, Activation, BatchNormalization, MaxPooling2D, add, Flatten, Dropout, Dense, GlobalAveragePooling2D\n",
    "import matplotlib.pyplot as plt\n",
    "import xlrd"
   ]
  },
  {
   "cell_type": "code",
   "execution_count": 4,
   "metadata": {
    "id": "6k9DXNbcimzG"
   },
   "outputs": [],
   "source": [
    "DataPath = '/workspace/Project1/Music-emotion/music-emotion/song/'\n",
    "os.chdir(DataPath)\n",
    "xlsx_module = xlrd.open_workbook('MusicData.xlsx')\n",
    "xlsx_sheet = xlsx_module.sheets()[0]\n",
    "data_info = []\n",
    "for i in range(1, xlsx_sheet.nrows):\n",
    "    data_info.append(xlsx_sheet.row_values(i))"
   ]
  },
  {
   "cell_type": "code",
   "execution_count": 5,
   "metadata": {
    "id": "NikK_XwWW7oc"
   },
   "outputs": [],
   "source": [
    "class SVM:\n",
    "    def __init__(self):\n",
    "        pass\n",
    "\n",
    "    def Train(self, DataPath):\n",
    "        \"\"\"Train data with SVM model\n",
    "\n",
    "        Parameters\n",
    "        ----------\n",
    "        DataPath : string\n",
    "            The path where you store the data. Note that the path must contain every split music data and\n",
    "            MusicData.xlsx\n",
    "        \"\"\"\n",
    "        Features, Labels = self.LoadFeature(DataPath)\n",
    "\n",
    "        #MeanValue = np.array(np.mean(Features, axis=0))\n",
    "        #DiffValue = np.array(np.max(Features, axis=0) - np.min(Features, axis=0))\n",
    "        #Features = (Features - MeanValue) / DiffValue\n",
    "\n",
    "        X_train, X_test, y_train, y_test = train_test_split(Features, Labels, test_size=0.1, random_state=42)\n",
    "\n",
    "        svm_model = svm.SVC(kernel='rbf', C=1, gamma='scale')\n",
    "        svm_model.fit(X_train, y_train.ravel())\n",
    "        joblib.dump(svm_model, 'music00')\n",
    "\n",
    "        print('train = ', svm_model.score(X_train, y_train))\n",
    "        print('val = ', svm_model.score(X_test, y_test))\n",
    "\n",
    "    def Predict(self, ModelPath, InputData):\n",
    "        \"\"\"Predict the input with the given model\n",
    "\n",
    "        Parameters\n",
    "        ----------\n",
    "        ModelPath : string\n",
    "            The path where you store the model.\n",
    "        InputData : string\n",
    "            The path of input data, predict one data at one time.\n",
    "        \"\"\"\n",
    "        X_test = self.FeatureExtraction(InputData)\n",
    "        loaded_model = joblib.load(ModelPath)\n",
    "        result = loaded_model.predict(X_test)\n",
    "\n",
    "        return result\n",
    "\n",
    "    def FeatureExtraction(self, DataPath):\n",
    "        \"\"\"Extract the feature for the given file\n",
    "\n",
    "        Parameters\n",
    "        ----------\n",
    "        DataPath : string\n",
    "            The path where your data is, only allows the file of wav and wma format.\n",
    "        \"\"\"\n",
    "        y, sr = librosa.load(DataPath, sr=22050, mono=True, duration=4)\n",
    "        time = librosa.get_duration(y=y, sr=sr)\n",
    "        if int(time) < 4:\n",
    "            return None\n",
    "\n",
    "        feature_mfcc = librosa.feature.mfcc(y=y, sr=sr, hop_length=sr, n_mfcc=1)\n",
    "        feature_mfcc = feature_mfcc.reshape((1, feature_mfcc.shape[1] * feature_mfcc.shape[0]))\n",
    "        feature_rolloff = librosa.feature.spectral_rolloff(y=y, sr=22050, hop_length=sr, roll_percent=0.85)\n",
    "        feature_spectral_contrast = librosa.feature.spectral_contrast(y=y, sr=22050, hop_length=sr, n_bands=1)\n",
    "        feature_spectral_contrast = feature_spectral_contrast.reshape(\n",
    "            (1, feature_spectral_contrast.shape[1] * feature_spectral_contrast.shape[0]))\n",
    "        feature_rms = librosa.feature.rms(y=y, hop_length=sr)\n",
    "        feature_combine = np.hstack((feature_rms, feature_mfcc))\n",
    "        feature_combine = np.hstack((feature_combine, feature_rolloff))\n",
    "        feature_combine = np.hstack((feature_combine, feature_spectral_contrast))\n",
    "\n",
    "        return feature_combine\n",
    "\n",
    "    def LoadFeature(self, DataPath):\n",
    "        \"\"\"Load features and labels from the directory.\n",
    "\n",
    "        Parameters\n",
    "        ----------\n",
    "        DataPath : string\n",
    "            The path where you store the data. Note that the path must contain every split music data and\n",
    "            MusicData.xlsx\n",
    "        \"\"\"\n",
    "        os.chdir(DataPath)\n",
    "        xlsx_module = xlrd.open_workbook('MusicData.xlsx')\n",
    "        xlsx_sheet = xlsx_module.sheets()[0]\n",
    "        data_info = []\n",
    "        for i in range(1, xlsx_sheet.nrows):\n",
    "            data_info.append(xlsx_sheet.row_values(i))\n",
    "\n",
    "        features = np.array([])\n",
    "        music_label = []\n",
    "        for i in range(len(data_info)):\n",
    "            print(\"\\rExtracting feature ({}/{})\".format(i, len(data_info)), flush=True, end='')\n",
    "            print(\" : {}/{}\".format(data_info[i][1], data_info[i][2] + data_info[i][5]), flush=True, end='')\n",
    "\n",
    "            os.chdir(data_info[i][1])\n",
    "\n",
    "            feature = self.FeatureExtraction(data_info[i][2] + data_info[i][5])\n",
    "            os.chdir('..')\n",
    "\n",
    "            if feature is None:\n",
    "                continue\n",
    "\n",
    "            if features.shape[0] == 0:\n",
    "                features = feature\n",
    "            else:\n",
    "                features = np.vstack((features, feature))\n",
    "\n",
    "            arousal_s = data_info[i][3] - 50\n",
    "            valence_s = data_info[i][4] - 50\n",
    "            if arousal_s >= 0 and valence_s >= 0:  # Joy\n",
    "                music_label.append(0)\n",
    "            elif arousal_s >= 0 and valence_s < 0:  # Tension\n",
    "                music_label.append(1)\n",
    "            elif arousal_s < 0 and valence_s >= 0:  # Peacefulness\n",
    "                music_label.append(2)\n",
    "            elif arousal_s < 0 and valence_s < 0:  # Sadness\n",
    "                music_label.append(3)\n",
    "\n",
    "        os.chdir('..')\n",
    "        print('\\rExtract complete', flush=True)\n",
    "\n",
    "        return features, np.array(music_label)"
   ]
  },
  {
   "cell_type": "code",
   "execution_count": 6,
   "metadata": {
    "id": "VHtjGEOeosM9",
    "tags": []
   },
   "outputs": [
    {
     "name": "stdout",
     "output_type": "stream",
     "text": [
      "Extracting feature (67/450): Grand_Polonaise_op_16/split_001.wav : Grand_Polonaise_op_16/split_002.wav : Grand_Polonaise_op_16/split_003.wav : Grand_Polonaise_op_16/split_004.wav : Grand_Polonaise_op_16/split_005.wav : Grand_Polonaise_op_16/split_006.wav : Grand_Polonaise_op_16/split_007.wav : Grand_Polonaise_op_16/split_008.wav : Grand_Polonaise_op_16/split_009.wav : Four Seasons_Summer 3rd movment/split_001.wav : Four Seasons_Summer 3rd movment/split_002.wav : Four Seasons_Summer 3rd movment/split_003.wav : Four Seasons_Summer 3rd movment/split_004.wav : Four Seasons_Summer 3rd movment/split_005.wav : Four Seasons_Summer 3rd movment/split_006.wav : Four Seasons_Summer 3rd movment/split_007.wav : Four Seasons_Summer 3rd movment/split_008.wav : Four Seasons_Summer 3rd movment/split_009.wav : Four Seasons_Summer 3rd movment/split_010.wav : Four Seasons_Summer 3rd movment/split_011.wav : Four Seasons_Summer 3rd movment/split_012.wav : Four Seasons_Summer 3rd movment/split_013.wav : Four Seasons_Summer 3rd movment/split_014.wav : Four Seasons_Summer 3rd movment/split_015.wav : Four Seasons_Summer 3rd movment/split_016.wav : Four Seasons_Summer 3rd movment/split_017.wav : Four Seasons_Summer 3rd movment/split_018.wav : Four Seasons_Summer 3rd movment/split_019.wav : Four Seasons_Summer 3rd movment/split_020.wav : Four Seasons_Summer 3rd movment/split_021.wav : Four Seasons_Summer 3rd movment/split_022.wav : Concertino for horn/split_001.wav : Concertino for horn/split_003.wav : Concertino for horn/split_004.wav : Concertino for horn/split_005.wav : Concertino for horn/split_006.wav : Concertino for horn/split_007.wav : Concertino for horn/split_008.wav : Concertino for horn/split_009.wav : Concertino for horn/split_010.wav : Concertino for horn/split_011.wav : Concertino for horn/split_012.wav : Concertino for horn/split_013.wav : Concertino for horn/split_014.wav : Concertino for horn/split_015.wav : Concertino for horn/split_016.wav : Divertissements/split_001.wav : Divertissements/split_002.wav : Divertissements/split_003.wav : Divertissements/split_004.wav : Divertissements/split_005.wav : Divertissements/split_006.wav : Divertissements/split_007.wav : Divertissements/split_008.wav : Divertissements/split_009.wav : Divertissements/split_010.wav : Divertissements/split_011.wav : Divertissements/split_012.wav : Divertissements/split_013.wav : Divertissements/split_014.wav : Divertissements/split_015.wav : Divertissements/split_016.wav : Divertissements/split_017.wav : Divertissements/split_018.wav : Divertissements/split_019.wav : Divertissements/split_020.wav : Divertissements/split_021.wav : L_ Horloge de Flore mv_II/split_001.wma"
     ]
    },
    {
     "name": "stderr",
     "output_type": "stream",
     "text": [
      "/usr/local/lib/python3.8/dist-packages/librosa/core/audio.py:165: UserWarning: PySoundFile failed. Trying audioread instead.\n",
      "  warnings.warn(\"PySoundFile failed. Trying audioread instead.\")\n"
     ]
    },
    {
     "name": "stdout",
     "output_type": "stream",
     "text": [
      "Extracting feature (68/450) : L_ Horloge de Flore mv_II/split_002.wma"
     ]
    },
    {
     "name": "stderr",
     "output_type": "stream",
     "text": [
      "/usr/local/lib/python3.8/dist-packages/librosa/core/audio.py:165: UserWarning: PySoundFile failed. Trying audioread instead.\n",
      "  warnings.warn(\"PySoundFile failed. Trying audioread instead.\")\n"
     ]
    },
    {
     "name": "stdout",
     "output_type": "stream",
     "text": [
      "Extracting feature (69/450) : L_ Horloge de Flore mv_II/split_003.wma"
     ]
    },
    {
     "name": "stderr",
     "output_type": "stream",
     "text": [
      "/usr/local/lib/python3.8/dist-packages/librosa/core/audio.py:165: UserWarning: PySoundFile failed. Trying audioread instead.\n",
      "  warnings.warn(\"PySoundFile failed. Trying audioread instead.\")\n"
     ]
    },
    {
     "name": "stdout",
     "output_type": "stream",
     "text": [
      "Extracting feature (70/450) : L_ Horloge de Flore mv_II/split_004.wma"
     ]
    },
    {
     "name": "stderr",
     "output_type": "stream",
     "text": [
      "/usr/local/lib/python3.8/dist-packages/librosa/core/audio.py:165: UserWarning: PySoundFile failed. Trying audioread instead.\n",
      "  warnings.warn(\"PySoundFile failed. Trying audioread instead.\")\n"
     ]
    },
    {
     "name": "stdout",
     "output_type": "stream",
     "text": [
      "Extracting feature (71/450) : L_ Horloge de Flore mv_II/split_005.wma"
     ]
    },
    {
     "name": "stderr",
     "output_type": "stream",
     "text": [
      "/usr/local/lib/python3.8/dist-packages/librosa/core/audio.py:165: UserWarning: PySoundFile failed. Trying audioread instead.\n",
      "  warnings.warn(\"PySoundFile failed. Trying audioread instead.\")\n"
     ]
    },
    {
     "name": "stdout",
     "output_type": "stream",
     "text": [
      "Extracting feature (72/450) : L_ Horloge de Flore mv_II/split_006.wma"
     ]
    },
    {
     "name": "stderr",
     "output_type": "stream",
     "text": [
      "/usr/local/lib/python3.8/dist-packages/librosa/core/audio.py:165: UserWarning: PySoundFile failed. Trying audioread instead.\n",
      "  warnings.warn(\"PySoundFile failed. Trying audioread instead.\")\n"
     ]
    },
    {
     "name": "stdout",
     "output_type": "stream",
     "text": [
      "Extracting feature (73/450) : L_ Horloge de Flore mv_II/split_007.wma"
     ]
    },
    {
     "name": "stderr",
     "output_type": "stream",
     "text": [
      "/usr/local/lib/python3.8/dist-packages/librosa/core/audio.py:165: UserWarning: PySoundFile failed. Trying audioread instead.\n",
      "  warnings.warn(\"PySoundFile failed. Trying audioread instead.\")\n"
     ]
    },
    {
     "name": "stdout",
     "output_type": "stream",
     "text": [
      "Extracting feature (74/450) : L_ Horloge de Flore mv_II/split_008.wma"
     ]
    },
    {
     "name": "stderr",
     "output_type": "stream",
     "text": [
      "/usr/local/lib/python3.8/dist-packages/librosa/core/audio.py:165: UserWarning: PySoundFile failed. Trying audioread instead.\n",
      "  warnings.warn(\"PySoundFile failed. Trying audioread instead.\")\n"
     ]
    },
    {
     "name": "stdout",
     "output_type": "stream",
     "text": [
      "Extracting feature (75/450) : L_ Horloge de Flore mv_II/split_009.wma"
     ]
    },
    {
     "name": "stderr",
     "output_type": "stream",
     "text": [
      "/usr/local/lib/python3.8/dist-packages/librosa/core/audio.py:165: UserWarning: PySoundFile failed. Trying audioread instead.\n",
      "  warnings.warn(\"PySoundFile failed. Trying audioread instead.\")\n"
     ]
    },
    {
     "name": "stdout",
     "output_type": "stream",
     "text": [
      "Extracting feature (76/450) : L_ Horloge de Flore mv_II/split_010.wma"
     ]
    },
    {
     "name": "stderr",
     "output_type": "stream",
     "text": [
      "/usr/local/lib/python3.8/dist-packages/librosa/core/audio.py:165: UserWarning: PySoundFile failed. Trying audioread instead.\n",
      "  warnings.warn(\"PySoundFile failed. Trying audioread instead.\")\n"
     ]
    },
    {
     "name": "stdout",
     "output_type": "stream",
     "text": [
      "Extracting feature (77/450) : L_ Horloge de Flore mv_II/split_011.wma"
     ]
    },
    {
     "name": "stderr",
     "output_type": "stream",
     "text": [
      "/usr/local/lib/python3.8/dist-packages/librosa/core/audio.py:165: UserWarning: PySoundFile failed. Trying audioread instead.\n",
      "  warnings.warn(\"PySoundFile failed. Trying audioread instead.\")\n"
     ]
    },
    {
     "name": "stdout",
     "output_type": "stream",
     "text": [
      "Extracting feature (78/450) : L_ Horloge de Flore mv_II/split_012.wma"
     ]
    },
    {
     "name": "stderr",
     "output_type": "stream",
     "text": [
      "/usr/local/lib/python3.8/dist-packages/librosa/core/audio.py:165: UserWarning: PySoundFile failed. Trying audioread instead.\n",
      "  warnings.warn(\"PySoundFile failed. Trying audioread instead.\")\n"
     ]
    },
    {
     "name": "stdout",
     "output_type": "stream",
     "text": [
      "Extracting feature (79/450) : L_ Horloge de Flore mv_II/split_013.wma"
     ]
    },
    {
     "name": "stderr",
     "output_type": "stream",
     "text": [
      "/usr/local/lib/python3.8/dist-packages/librosa/core/audio.py:165: UserWarning: PySoundFile failed. Trying audioread instead.\n",
      "  warnings.warn(\"PySoundFile failed. Trying audioread instead.\")\n"
     ]
    },
    {
     "name": "stdout",
     "output_type": "stream",
     "text": [
      "Extracting feature (80/450) : L_ Horloge de Flore mv_II/split_014.wma"
     ]
    },
    {
     "name": "stderr",
     "output_type": "stream",
     "text": [
      "/usr/local/lib/python3.8/dist-packages/librosa/core/audio.py:165: UserWarning: PySoundFile failed. Trying audioread instead.\n",
      "  warnings.warn(\"PySoundFile failed. Trying audioread instead.\")\n"
     ]
    },
    {
     "name": "stdout",
     "output_type": "stream",
     "text": [
      "Extracting feature (81/450) : L_ Horloge de Flore mv_II/split_015.wma"
     ]
    },
    {
     "name": "stderr",
     "output_type": "stream",
     "text": [
      "/usr/local/lib/python3.8/dist-packages/librosa/core/audio.py:165: UserWarning: PySoundFile failed. Trying audioread instead.\n",
      "  warnings.warn(\"PySoundFile failed. Trying audioread instead.\")\n"
     ]
    },
    {
     "name": "stdout",
     "output_type": "stream",
     "text": [
      "Extracting feature (82/450) : L_ Horloge de Flore mv_II/split_016.wma"
     ]
    },
    {
     "name": "stderr",
     "output_type": "stream",
     "text": [
      "/usr/local/lib/python3.8/dist-packages/librosa/core/audio.py:165: UserWarning: PySoundFile failed. Trying audioread instead.\n",
      "  warnings.warn(\"PySoundFile failed. Trying audioread instead.\")\n"
     ]
    },
    {
     "name": "stdout",
     "output_type": "stream",
     "text": [
      "Extracting feature (83/450) : L_ Horloge de Flore mv_II/split_017.wma"
     ]
    },
    {
     "name": "stderr",
     "output_type": "stream",
     "text": [
      "/usr/local/lib/python3.8/dist-packages/librosa/core/audio.py:165: UserWarning: PySoundFile failed. Trying audioread instead.\n",
      "  warnings.warn(\"PySoundFile failed. Trying audioread instead.\")\n"
     ]
    },
    {
     "name": "stdout",
     "output_type": "stream",
     "text": [
      "Extracting feature (84/450) : L_ Horloge de Flore mv_II/split_018.wma"
     ]
    },
    {
     "name": "stderr",
     "output_type": "stream",
     "text": [
      "/usr/local/lib/python3.8/dist-packages/librosa/core/audio.py:165: UserWarning: PySoundFile failed. Trying audioread instead.\n",
      "  warnings.warn(\"PySoundFile failed. Trying audioread instead.\")\n"
     ]
    },
    {
     "name": "stdout",
     "output_type": "stream",
     "text": [
      "Extracting feature (85/450) : L_ Horloge de Flore mv_II/split_019.wma"
     ]
    },
    {
     "name": "stderr",
     "output_type": "stream",
     "text": [
      "/usr/local/lib/python3.8/dist-packages/librosa/core/audio.py:165: UserWarning: PySoundFile failed. Trying audioread instead.\n",
      "  warnings.warn(\"PySoundFile failed. Trying audioread instead.\")\n"
     ]
    },
    {
     "name": "stdout",
     "output_type": "stream",
     "text": [
      "Extracting feature (86/450) : L_ Horloge de Flore mv_II/split_020.wma"
     ]
    },
    {
     "name": "stderr",
     "output_type": "stream",
     "text": [
      "/usr/local/lib/python3.8/dist-packages/librosa/core/audio.py:165: UserWarning: PySoundFile failed. Trying audioread instead.\n",
      "  warnings.warn(\"PySoundFile failed. Trying audioread instead.\")\n"
     ]
    },
    {
     "name": "stdout",
     "output_type": "stream",
     "text": [
      "Extracting feature (87/450) : L_ Horloge de Flore mv_II/split_021.wma"
     ]
    },
    {
     "name": "stderr",
     "output_type": "stream",
     "text": [
      "/usr/local/lib/python3.8/dist-packages/librosa/core/audio.py:165: UserWarning: PySoundFile failed. Trying audioread instead.\n",
      "  warnings.warn(\"PySoundFile failed. Trying audioread instead.\")\n"
     ]
    },
    {
     "name": "stdout",
     "output_type": "stream",
     "text": [
      "Extracting feature (88/450) : L_ Horloge de Flore mv_II/split_022.wma"
     ]
    },
    {
     "name": "stderr",
     "output_type": "stream",
     "text": [
      "/usr/local/lib/python3.8/dist-packages/librosa/core/audio.py:165: UserWarning: PySoundFile failed. Trying audioread instead.\n",
      "  warnings.warn(\"PySoundFile failed. Trying audioread instead.\")\n"
     ]
    },
    {
     "name": "stdout",
     "output_type": "stream",
     "text": [
      "Extracting feature (89/450) : L_ Horloge de Flore mv_II/split_023.wma"
     ]
    },
    {
     "name": "stderr",
     "output_type": "stream",
     "text": [
      "/usr/local/lib/python3.8/dist-packages/librosa/core/audio.py:165: UserWarning: PySoundFile failed. Trying audioread instead.\n",
      "  warnings.warn(\"PySoundFile failed. Trying audioread instead.\")\n"
     ]
    },
    {
     "name": "stdout",
     "output_type": "stream",
     "text": [
      "Extracting feature (173/450): Etude Op_72 No_2/split_001.wav : Etude Op_72 No_2/split_002.wav : Etude Op_72 No_2/split_003.wav : Etude Op_72 No_2/split_004.wav : Etude Op_72 No_2/split_005.wav : Etude Op_72 No_2/split_006.wav : Etude Op_72 No_2/split_007.wav : Etude Op_72 No_2/split_008.wav : Etude Op_72 No_2/split_009.wav : Etude Op_72 No_2/split_010.wav : Etude Op_72 No_2/split_011.wav : Etude Op_72 No_2/split_012.wav : Etude Op_72 No_2/split_013.wav : Etude Op_72 No_2/split_014.wav : Etude Op_72 No_2/split_015.wav : Elegy/split_001.wav : Elegy/split_002.wav : Elegy/split_003.wav : Elegy/split_004.wav : Elegy/split_005.wav : Elegy/split_006.wav : Elegy/split_007.wav : Elegy/split_008.wav : Elegy/split_009.wav : Elegy/split_010.wav : Elegy/split_011.wav : Elegy/split_012.wav : Elegy/split_013.wav : Elegy/split_014.wav : Elegy/split_015.wav : Elegy/split_016.wav : Elegy/split_017.wav : Elegy/split_018.wav : Elegy/split_019.wav : Elegy/split_020.wav : Elegy/split_021.wav : Horn concerto_no_2_Mvt_I/split_001.wav : Horn concerto_no_2_Mvt_I/split_002.wav : Horn concerto_no_2_Mvt_I/split_003.wav : Horn concerto_no_2_Mvt_I/split_004.wav : Horn concerto_no_2_Mvt_I/split_005.wav : Horn concerto_no_2_Mvt_I/split_006.wav : Horn concerto_no_2_Mvt_I/split_007.wav : Horn concerto_no_2_Mvt_I/split_008.wav : Horn concerto_no_2_Mvt_I/split_009.wav : Horn concerto_no_2_Mvt_I/split_010.wav : Horn concerto_no_2_Mvt_I/split_011.wav : Horn concerto_no_2_Mvt_I/split_012.wav : Horn concerto_no_2_Mvt_I/split_013.wav : Flute Sonata 2nd Mov/split_002.wav : Flute Sonata 2nd Mov/split_003.wav : Flute Sonata 2nd Mov/split_004.wav : Flute Sonata 2nd Mov/split_005.wav : Flute Sonata 2nd Mov/split_006.wav : Flute Sonata 2nd Mov/split_007.wav : Flute Sonata 2nd Mov/split_008.wav : Flute Sonata 2nd Mov/split_009.wav : Flute Sonata 2nd Mov/split_010.wav : Flute Sonata 2nd Mov/split_011.wav : Flute Sonata 2nd Mov/split_012.wav : Flute Sonata 2nd Mov/split_013.wav : Flute Sonata 2nd Mov/split_014.wav : Flute Sonata 2nd Mov/split_015.wav : Flute Sonata 2nd Mov/split_016.wav : Flute Sonata 2nd Mov/split_017.wav : Flute Sonata 2nd Mov/split_018.wav : Flute Sonata 2nd Mov/split_019.wav : Flute Sonata 2nd Mov/split_020.wav : Flute Sonata 2nd Mov/split_021.wav : Flute Sonata 2nd Mov/split_022.wav : Flute Sonata 2nd Mov/split_023.wav : Flute Sonata 2nd Mov/split_024.wav : Flight of the Bumblebee/split_001.wav : Flight of the Bumblebee/split_002.wav : Flight of the Bumblebee/split_003.wav : Flight of the Bumblebee/split_004.wav : Flight of the Bumblebee/split_005.wav : Flight of the Bumblebee/split_006.wav : Flight of the Bumblebee/split_007.wav : Flight of the Bumblebee/split_008.wav : Flight of the Bumblebee/split_009.wav : Flight of the Bumblebee/split_011.wav : Flight of the Bumblebee/split_012.wav : Gabriel_s Oboe from The mission/split_001.wma"
     ]
    },
    {
     "name": "stderr",
     "output_type": "stream",
     "text": [
      "/usr/local/lib/python3.8/dist-packages/librosa/core/audio.py:165: UserWarning: PySoundFile failed. Trying audioread instead.\n",
      "  warnings.warn(\"PySoundFile failed. Trying audioread instead.\")\n"
     ]
    },
    {
     "name": "stdout",
     "output_type": "stream",
     "text": [
      "Extracting feature (174/450) : Gabriel_s Oboe from The mission/split_002.wma"
     ]
    },
    {
     "name": "stderr",
     "output_type": "stream",
     "text": [
      "/usr/local/lib/python3.8/dist-packages/librosa/core/audio.py:165: UserWarning: PySoundFile failed. Trying audioread instead.\n",
      "  warnings.warn(\"PySoundFile failed. Trying audioread instead.\")\n"
     ]
    },
    {
     "name": "stdout",
     "output_type": "stream",
     "text": [
      "Extracting feature (175/450) : Gabriel_s Oboe from The mission/split_003.wma"
     ]
    },
    {
     "name": "stderr",
     "output_type": "stream",
     "text": [
      "/usr/local/lib/python3.8/dist-packages/librosa/core/audio.py:165: UserWarning: PySoundFile failed. Trying audioread instead.\n",
      "  warnings.warn(\"PySoundFile failed. Trying audioread instead.\")\n"
     ]
    },
    {
     "name": "stdout",
     "output_type": "stream",
     "text": [
      "Extracting feature (176/450) : Gabriel_s Oboe from The mission/split_004.wma"
     ]
    },
    {
     "name": "stderr",
     "output_type": "stream",
     "text": [
      "/usr/local/lib/python3.8/dist-packages/librosa/core/audio.py:165: UserWarning: PySoundFile failed. Trying audioread instead.\n",
      "  warnings.warn(\"PySoundFile failed. Trying audioread instead.\")\n"
     ]
    },
    {
     "name": "stdout",
     "output_type": "stream",
     "text": [
      "Extracting feature (177/450) : Gabriel_s Oboe from The mission/split_005.wma"
     ]
    },
    {
     "name": "stderr",
     "output_type": "stream",
     "text": [
      "/usr/local/lib/python3.8/dist-packages/librosa/core/audio.py:165: UserWarning: PySoundFile failed. Trying audioread instead.\n",
      "  warnings.warn(\"PySoundFile failed. Trying audioread instead.\")\n"
     ]
    },
    {
     "name": "stdout",
     "output_type": "stream",
     "text": [
      "Extracting feature (178/450) : Gabriel_s Oboe from The mission/split_006.wma"
     ]
    },
    {
     "name": "stderr",
     "output_type": "stream",
     "text": [
      "/usr/local/lib/python3.8/dist-packages/librosa/core/audio.py:165: UserWarning: PySoundFile failed. Trying audioread instead.\n",
      "  warnings.warn(\"PySoundFile failed. Trying audioread instead.\")\n"
     ]
    },
    {
     "name": "stdout",
     "output_type": "stream",
     "text": [
      "Extracting feature (179/450) : Gabriel_s Oboe from The mission/split_007.wma"
     ]
    },
    {
     "name": "stderr",
     "output_type": "stream",
     "text": [
      "/usr/local/lib/python3.8/dist-packages/librosa/core/audio.py:165: UserWarning: PySoundFile failed. Trying audioread instead.\n",
      "  warnings.warn(\"PySoundFile failed. Trying audioread instead.\")\n"
     ]
    },
    {
     "name": "stdout",
     "output_type": "stream",
     "text": [
      "Extracting feature (180/450) : Gabriel_s Oboe from The mission/split_008.wma"
     ]
    },
    {
     "name": "stderr",
     "output_type": "stream",
     "text": [
      "/usr/local/lib/python3.8/dist-packages/librosa/core/audio.py:165: UserWarning: PySoundFile failed. Trying audioread instead.\n",
      "  warnings.warn(\"PySoundFile failed. Trying audioread instead.\")\n"
     ]
    },
    {
     "name": "stdout",
     "output_type": "stream",
     "text": [
      "Extracting feature (181/450) : Gabriel_s Oboe from The mission/split_009.wma"
     ]
    },
    {
     "name": "stderr",
     "output_type": "stream",
     "text": [
      "/usr/local/lib/python3.8/dist-packages/librosa/core/audio.py:165: UserWarning: PySoundFile failed. Trying audioread instead.\n",
      "  warnings.warn(\"PySoundFile failed. Trying audioread instead.\")\n"
     ]
    },
    {
     "name": "stdout",
     "output_type": "stream",
     "text": [
      "Extracting feature (182/450) : Gabriel_s Oboe from The mission/split_010.wma"
     ]
    },
    {
     "name": "stderr",
     "output_type": "stream",
     "text": [
      "/usr/local/lib/python3.8/dist-packages/librosa/core/audio.py:165: UserWarning: PySoundFile failed. Trying audioread instead.\n",
      "  warnings.warn(\"PySoundFile failed. Trying audioread instead.\")\n"
     ]
    },
    {
     "name": "stdout",
     "output_type": "stream",
     "text": [
      "Extracting feature (183/450) : Gabriel_s Oboe from The mission/split_011.wma"
     ]
    },
    {
     "name": "stderr",
     "output_type": "stream",
     "text": [
      "/usr/local/lib/python3.8/dist-packages/librosa/core/audio.py:165: UserWarning: PySoundFile failed. Trying audioread instead.\n",
      "  warnings.warn(\"PySoundFile failed. Trying audioread instead.\")\n"
     ]
    },
    {
     "name": "stdout",
     "output_type": "stream",
     "text": [
      "Extracting feature (353/450) : Op_28 Preludes No_8/split_001.wav : Op_28 Preludes No_8/split_002.wav : Op_28 Preludes No_8/split_003.wav : Op_28 Preludes No_8/split_004.wav : Op_28 Preludes No_8/split_005.wav : Op_28 Preludes No_8/split_006.wav : Op_28 Preludes No_8/split_007.wav : Op_28 Preludes No_8/split_008.wav : Op_28 Preludes No_8/split_009.wav : Op_28 Preludes No_8/split_010.wav : Op_28 Preludes No_8/split_011.wav : Op_28 Preludes No_8/split_012.wav : Op_28 Preludes No_8/split_013.wav : Nocturne/split_001.wav : Nocturne/split_002.wav : Nocturne/split_003.wav : Nocturne/split_004.wav : Nocturne/split_005.wav : Nocturne/split_006.wav : Nocturne/split_007.wav : Nocturne/split_008.wav : Nocturne/split_009.wav : Nocturne/split_010.wav : Nocturne/split_011.wav : Nocturne/split_012.wav : Nocturne/split_013.wav : Nocturne/split_014.wav : Nocturne/split_015.wav : Nocturne/split_016.wav : Nocturne/split_017.wav : Nocturne/split_018.wav : Nocturne/split_019.wav : Nocturne/split_020.wav : Nocturne/split_021.wav : Nocturne/split_022.wav : Sonate No_2 Mvt_3/split_001.wav : Sonate No_2 Mvt_3/split_002.wav : Sonate No_2 Mvt_3/split_003.wav : Sonate No_2 Mvt_3/split_004.wav : Sonate No_2 Mvt_3/split_005.wav : Sonate No_2 Mvt_3/split_006.wav : Sonate No_2 Mvt_3/split_007.wav : Sonate No_2 Mvt_3/split_008.wav : Sonate No_2 Mvt_3/split_009.wav : Sonate No_2 Mvt_3/split_010.wav : Sonate No_2 Mvt_3/split_011.wav : Sonate No_2 Mvt_3/split_012.wav : Sonate No_2 Mvt_3/split_013.wav : Sonate No_2 Mvt_3/split_014.wav : Sonate No_2 Mvt_3/split_015.wav : Sonate No_2 Mvt_3/split_016.wav : Sonate No_2 Mvt_3/split_017.wav : Sonate No_2 Mvt_3/split_018.wav : Sonate No_2 Mvt_3/split_019.wav : Sonate No_2 Mvt_3/split_020.wav : Sonate No_2 Mvt_3/split_021.wav : Villanelle/split_001.wav : Villanelle/split_002.wav : Villanelle/split_003.wav : Villanelle/split_004.wav : Villanelle/split_005.wav : Villanelle/split_006.wav : Villanelle/split_007.wav : Villanelle/split_008.wav : Villanelle/split_009.wav : Villanelle/split_010.wav : Villanelle/split_011.wav : Villanelle/split_012.wav : Villanelle/split_013.wav : Villanelle/split_014.wav : Villanelle/split_015.wav : Villanelle/split_016.wav : Entr_acte from Carmen/split_002.wav : Entr_acte from Carmen/split_003.wav : Entr_acte from Carmen/split_004.wav : Entr_acte from Carmen/split_005.wav : Entr_acte from Carmen/split_006.wav : Entr_acte from Carmen/split_007.wav : Entr_acte from Carmen/split_008.wav : Entr_acte from Carmen/split_009.wav : Entr_acte from Carmen/split_010.wav : Entr_acte from Carmen/split_011.wav : Entr_acte from Carmen/split_012.wav : Entr_acte from Carmen/split_013.wav : Violin Concerto No_2 Op_22/split_001.wav : Violin Concerto No_2 Op_22/split_002.wav : Violin Concerto No_2 Op_22/split_003.wav : Violin Concerto No_2 Op_22/split_004.wav : Violin Concerto No_2 Op_22/split_005.wav : Violin Concerto No_2 Op_22/split_006.wav : Violin Concerto No_2 Op_22/split_007.wav : Violin Concerto No_2 Op_22/split_008.wav : Violin Concerto No_2 Op_22/split_009.wav : Violin Concerto No_2 Op_22/split_010.wav : Violin Concerto No_2 Op_22/split_011.wav : Violin Concerto No_2 Op_22/split_012.wav : Violin Concerto No_2 Op_22/split_013.wav : Violin Concerto No_2 Op_22/split_014.wav : Violin Concerto No_2 Op_22/split_015.wav : Violin Concerto No_2 Op_22/split_016.wav : Violin Concerto No_2 Op_22/split_017.wav : Violin Concerto No_2 Op_22/split_018.wav : Violin Concerto No_2 Op_22/split_019.wav : Violin Concerto No_2 Op_22/split_020.wav : Violin Concerto No_2 Op_22/split_021.wav : Violin Concerto No_2 Op_22/split_022.wav : Violin Concerto No_2 Op_22/split_023.wav : Violin Concerto No_2 Op_22/split_024.wav : Violin Concerto No_2 Op_22/split_025.wav : Violin Concerto No_2 Op_22/split_026.wav : Violin Concerto No_2 Op_22/split_027.wav : Violin Concerto No_2 Op_22/split_028.wav : Violin Concerto No_2 Op_22/split_029.wav : Cinq Incantations pour flute seule/split_001.wav : Cinq Incantations pour flute seule/split_002.wav : Cinq Incantations pour flute seule/split_003.wav : Cinq Incantations pour flute seule/split_004.wav : Cinq Incantations pour flute seule/split_005.wav : Cinq Incantations pour flute seule/split_006.wav : Cinq Incantations pour flute seule/split_007.wav : Cinq Incantations pour flute seule/split_008.wav : Cinq Incantations pour flute seule/split_009.wav : Cinq Incantations pour flute seule/split_010.wav : Cinq Incantations pour flute seule/split_011.wav : Cinq Incantations pour flute seule/split_012.wav : Cinq Incantations pour flute seule/split_013.wav : Cinq Incantations pour flute seule/split_014.wav : Cinq Incantations pour flute seule/split_015.wav : Cinq Incantations pour flute seule/split_016.wav : Cinq Incantations pour flute seule/split_017.wav : Cinq Incantations pour flute seule/split_018.wav : Cinq Incantations pour flute seule/split_019.wav : Cinq Incantations pour flute seule/split_020.wav : Cinq Incantations pour flute seule/split_021.wav : Cinq Incantations pour flute seule/split_022.wav : Cinq Incantations pour flute seule/split_023.wav : Cinq Incantations pour flute seule/split_024.wav : Prelude and Fugue No_1 prelude/split_001.wav : Prelude and Fugue No_1 prelude/split_002.wav : Prelude and Fugue No_1 prelude/split_003.wav : Prelude and Fugue No_1 prelude/split_004.wav : Prelude and Fugue No_1 prelude/split_005.wav : Prelude and Fugue No_1 prelude/split_006.wav : Prelude and Fugue No_1 prelude/split_007.wav : Prelude and Fugue No_1 prelude/split_008.wav : Prelude and Fugue No_1 prelude/split_009.wav : Prelude and Fugue No_1 prelude/split_010.wav : Prelude and Fugue No_1 prelude/split_011.wav : Prelude and Fugue No_1 prelude/split_012.wav : Prelude and Fugue No_1 prelude/split_013.wav : Prelude and Fugue No_1 prelude/split_014.wav : Prelude and Fugue No_1 prelude/split_015.wav : Prelude and Fugue No_1 prelude/split_016.wav : Viola Sonate op_25 No_1 Mvt_4/split_001.wav : Viola Sonate op_25 No_1 Mvt_4/split_002.wav : Viola Sonate op_25 No_1 Mvt_4/split_003.wav : Viola Sonate op_25 No_1 Mvt_4/split_004.wav : Viola Sonate op_25 No_1 Mvt_4/split_005.wav : Viola Sonate op_25 No_1 Mvt_4/split_006.wav : Viola Sonate op_25 No_1 Mvt_4/split_007.wav : Viola Sonate op_25 No_1 Mvt_4/split_008.wav : Viola Sonate op_25 No_1 Mvt_4/split_009.wav : Viola Sonate op_25 No_1 Mvt_4/split_010.wav : Viola Sonate op_25 No_1 Mvt_4/split_011.wav : Viola Sonate op_25 No_1 Mvt_4/split_012.wav : Viola Sonate op_25 No_1 Mvt_4/split_013.wav : Viola Sonate op_25 No_1 Mvt_4/split_014.wav : Viola Sonate op_25 No_1 Mvt_4/split_015.wav : Viola Sonate op_25 No_1 Mvt_4/split_016.wav : Adagio from the Easter Oratorio/split_001.wma"
     ]
    },
    {
     "name": "stderr",
     "output_type": "stream",
     "text": [
      "/usr/local/lib/python3.8/dist-packages/librosa/core/audio.py:165: UserWarning: PySoundFile failed. Trying audioread instead.\n",
      "  warnings.warn(\"PySoundFile failed. Trying audioread instead.\")\n"
     ]
    },
    {
     "name": "stdout",
     "output_type": "stream",
     "text": [
      "Extracting feature (354/450) : Adagio from the Easter Oratorio/split_002.wma"
     ]
    },
    {
     "name": "stderr",
     "output_type": "stream",
     "text": [
      "/usr/local/lib/python3.8/dist-packages/librosa/core/audio.py:165: UserWarning: PySoundFile failed. Trying audioread instead.\n",
      "  warnings.warn(\"PySoundFile failed. Trying audioread instead.\")\n"
     ]
    },
    {
     "name": "stdout",
     "output_type": "stream",
     "text": [
      "Extracting feature (355/450) : Adagio from the Easter Oratorio/split_003.wma"
     ]
    },
    {
     "name": "stderr",
     "output_type": "stream",
     "text": [
      "/usr/local/lib/python3.8/dist-packages/librosa/core/audio.py:165: UserWarning: PySoundFile failed. Trying audioread instead.\n",
      "  warnings.warn(\"PySoundFile failed. Trying audioread instead.\")\n"
     ]
    },
    {
     "name": "stdout",
     "output_type": "stream",
     "text": [
      "Extracting feature (356/450) : Adagio from the Easter Oratorio/split_004.wma"
     ]
    },
    {
     "name": "stderr",
     "output_type": "stream",
     "text": [
      "/usr/local/lib/python3.8/dist-packages/librosa/core/audio.py:165: UserWarning: PySoundFile failed. Trying audioread instead.\n",
      "  warnings.warn(\"PySoundFile failed. Trying audioread instead.\")\n"
     ]
    },
    {
     "name": "stdout",
     "output_type": "stream",
     "text": [
      "Extracting feature (357/450) : Adagio from the Easter Oratorio/split_005.wma"
     ]
    },
    {
     "name": "stderr",
     "output_type": "stream",
     "text": [
      "/usr/local/lib/python3.8/dist-packages/librosa/core/audio.py:165: UserWarning: PySoundFile failed. Trying audioread instead.\n",
      "  warnings.warn(\"PySoundFile failed. Trying audioread instead.\")\n"
     ]
    },
    {
     "name": "stdout",
     "output_type": "stream",
     "text": [
      "Extracting feature (358/450) : Adagio from the Easter Oratorio/split_006.wma"
     ]
    },
    {
     "name": "stderr",
     "output_type": "stream",
     "text": [
      "/usr/local/lib/python3.8/dist-packages/librosa/core/audio.py:165: UserWarning: PySoundFile failed. Trying audioread instead.\n",
      "  warnings.warn(\"PySoundFile failed. Trying audioread instead.\")\n"
     ]
    },
    {
     "name": "stdout",
     "output_type": "stream",
     "text": [
      "Extracting feature (359/450) : Adagio from the Easter Oratorio/split_007.wma"
     ]
    },
    {
     "name": "stderr",
     "output_type": "stream",
     "text": [
      "/usr/local/lib/python3.8/dist-packages/librosa/core/audio.py:165: UserWarning: PySoundFile failed. Trying audioread instead.\n",
      "  warnings.warn(\"PySoundFile failed. Trying audioread instead.\")\n"
     ]
    },
    {
     "name": "stdout",
     "output_type": "stream",
     "text": [
      "Extracting feature (360/450) : Adagio from the Easter Oratorio/split_008.wma"
     ]
    },
    {
     "name": "stderr",
     "output_type": "stream",
     "text": [
      "/usr/local/lib/python3.8/dist-packages/librosa/core/audio.py:165: UserWarning: PySoundFile failed. Trying audioread instead.\n",
      "  warnings.warn(\"PySoundFile failed. Trying audioread instead.\")\n"
     ]
    },
    {
     "name": "stdout",
     "output_type": "stream",
     "text": [
      "Extracting feature (361/450) : Adagio from the Easter Oratorio/split_009.wma"
     ]
    },
    {
     "name": "stderr",
     "output_type": "stream",
     "text": [
      "/usr/local/lib/python3.8/dist-packages/librosa/core/audio.py:165: UserWarning: PySoundFile failed. Trying audioread instead.\n",
      "  warnings.warn(\"PySoundFile failed. Trying audioread instead.\")\n"
     ]
    },
    {
     "name": "stdout",
     "output_type": "stream",
     "text": [
      "Extracting feature (362/450) : Adagio from the Easter Oratorio/split_010.wma"
     ]
    },
    {
     "name": "stderr",
     "output_type": "stream",
     "text": [
      "/usr/local/lib/python3.8/dist-packages/librosa/core/audio.py:165: UserWarning: PySoundFile failed. Trying audioread instead.\n",
      "  warnings.warn(\"PySoundFile failed. Trying audioread instead.\")\n"
     ]
    },
    {
     "name": "stdout",
     "output_type": "stream",
     "text": [
      "Extracting feature (363/450) : Adagio from the Easter Oratorio/split_011.wma"
     ]
    },
    {
     "name": "stderr",
     "output_type": "stream",
     "text": [
      "/usr/local/lib/python3.8/dist-packages/librosa/core/audio.py:165: UserWarning: PySoundFile failed. Trying audioread instead.\n",
      "  warnings.warn(\"PySoundFile failed. Trying audioread instead.\")\n"
     ]
    },
    {
     "name": "stdout",
     "output_type": "stream",
     "text": [
      "Extracting feature (364/450) : Adagio from the Easter Oratorio/split_012.wma"
     ]
    },
    {
     "name": "stderr",
     "output_type": "stream",
     "text": [
      "/usr/local/lib/python3.8/dist-packages/librosa/core/audio.py:165: UserWarning: PySoundFile failed. Trying audioread instead.\n",
      "  warnings.warn(\"PySoundFile failed. Trying audioread instead.\")\n"
     ]
    },
    {
     "name": "stdout",
     "output_type": "stream",
     "text": [
      "Extracting feature (365/450) : Adagio from the Easter Oratorio/split_013.wma"
     ]
    },
    {
     "name": "stderr",
     "output_type": "stream",
     "text": [
      "/usr/local/lib/python3.8/dist-packages/librosa/core/audio.py:165: UserWarning: PySoundFile failed. Trying audioread instead.\n",
      "  warnings.warn(\"PySoundFile failed. Trying audioread instead.\")\n"
     ]
    },
    {
     "name": "stdout",
     "output_type": "stream",
     "text": [
      "Extracting feature (366/450) : Adagio from the Easter Oratorio/split_014.wma"
     ]
    },
    {
     "name": "stderr",
     "output_type": "stream",
     "text": [
      "/usr/local/lib/python3.8/dist-packages/librosa/core/audio.py:165: UserWarning: PySoundFile failed. Trying audioread instead.\n",
      "  warnings.warn(\"PySoundFile failed. Trying audioread instead.\")\n"
     ]
    },
    {
     "name": "stdout",
     "output_type": "stream",
     "text": [
      "Extracting feature (367/450) : Adagio from the Easter Oratorio/split_015.wma"
     ]
    },
    {
     "name": "stderr",
     "output_type": "stream",
     "text": [
      "/usr/local/lib/python3.8/dist-packages/librosa/core/audio.py:165: UserWarning: PySoundFile failed. Trying audioread instead.\n",
      "  warnings.warn(\"PySoundFile failed. Trying audioread instead.\")\n"
     ]
    },
    {
     "name": "stdout",
     "output_type": "stream",
     "text": [
      "Extracting feature (368/450) : Adagio from the Easter Oratorio/split_016.wma"
     ]
    },
    {
     "name": "stderr",
     "output_type": "stream",
     "text": [
      "/usr/local/lib/python3.8/dist-packages/librosa/core/audio.py:165: UserWarning: PySoundFile failed. Trying audioread instead.\n",
      "  warnings.warn(\"PySoundFile failed. Trying audioread instead.\")\n"
     ]
    },
    {
     "name": "stdout",
     "output_type": "stream",
     "text": [
      "Extracting feature (369/450) : Adagio from the Easter Oratorio/split_017.wma"
     ]
    },
    {
     "name": "stderr",
     "output_type": "stream",
     "text": [
      "/usr/local/lib/python3.8/dist-packages/librosa/core/audio.py:165: UserWarning: PySoundFile failed. Trying audioread instead.\n",
      "  warnings.warn(\"PySoundFile failed. Trying audioread instead.\")\n"
     ]
    },
    {
     "name": "stdout",
     "output_type": "stream",
     "text": [
      "Extracting feature (386/450) : Rebonds B/split_001.wav : Rebonds B/split_002.wav : Rebonds B/split_003.wav : Rebonds B/split_004.wav : Rebonds B/split_005.wav : Rebonds B/split_006.wav : Rebonds B/split_007.wav : Rebonds B/split_008.wav : Symphony no_5 Mvt_II/split_001.wav : Symphony no_5 Mvt_II/split_002.wav : Symphony no_5 Mvt_II/split_003.wav : Symphony no_5 Mvt_II/split_004.wav : Symphony no_5 Mvt_II/split_005.wav : Symphony no_5 Mvt_II/split_006.wav : Symphony no_5 Mvt_II/split_007.wav : Symphony no_5 Mvt_II/split_008.wav : Concerto for oboe and small orchestra mv_I/split_001.wma"
     ]
    },
    {
     "name": "stderr",
     "output_type": "stream",
     "text": [
      "/usr/local/lib/python3.8/dist-packages/librosa/core/audio.py:165: UserWarning: PySoundFile failed. Trying audioread instead.\n",
      "  warnings.warn(\"PySoundFile failed. Trying audioread instead.\")\n"
     ]
    },
    {
     "name": "stdout",
     "output_type": "stream",
     "text": [
      "Extracting feature (387/450) : Concerto for oboe and small orchestra mv_I/split_002.wma"
     ]
    },
    {
     "name": "stderr",
     "output_type": "stream",
     "text": [
      "/usr/local/lib/python3.8/dist-packages/librosa/core/audio.py:165: UserWarning: PySoundFile failed. Trying audioread instead.\n",
      "  warnings.warn(\"PySoundFile failed. Trying audioread instead.\")\n"
     ]
    },
    {
     "name": "stdout",
     "output_type": "stream",
     "text": [
      "Extracting feature (388/450) : Concerto for oboe and small orchestra mv_I/split_003.wma"
     ]
    },
    {
     "name": "stderr",
     "output_type": "stream",
     "text": [
      "/usr/local/lib/python3.8/dist-packages/librosa/core/audio.py:165: UserWarning: PySoundFile failed. Trying audioread instead.\n",
      "  warnings.warn(\"PySoundFile failed. Trying audioread instead.\")\n"
     ]
    },
    {
     "name": "stdout",
     "output_type": "stream",
     "text": [
      "Extracting feature (389/450) : Concerto for oboe and small orchestra mv_I/split_004.wma"
     ]
    },
    {
     "name": "stderr",
     "output_type": "stream",
     "text": [
      "/usr/local/lib/python3.8/dist-packages/librosa/core/audio.py:165: UserWarning: PySoundFile failed. Trying audioread instead.\n",
      "  warnings.warn(\"PySoundFile failed. Trying audioread instead.\")\n"
     ]
    },
    {
     "name": "stdout",
     "output_type": "stream",
     "text": [
      "Extracting feature (390/450) : Concerto for oboe and small orchestra mv_I/split_005.wma"
     ]
    },
    {
     "name": "stderr",
     "output_type": "stream",
     "text": [
      "/usr/local/lib/python3.8/dist-packages/librosa/core/audio.py:165: UserWarning: PySoundFile failed. Trying audioread instead.\n",
      "  warnings.warn(\"PySoundFile failed. Trying audioread instead.\")\n"
     ]
    },
    {
     "name": "stdout",
     "output_type": "stream",
     "text": [
      "Extracting feature (391/450) : Concerto for oboe and small orchestra mv_I/split_006.wma"
     ]
    },
    {
     "name": "stderr",
     "output_type": "stream",
     "text": [
      "/usr/local/lib/python3.8/dist-packages/librosa/core/audio.py:165: UserWarning: PySoundFile failed. Trying audioread instead.\n",
      "  warnings.warn(\"PySoundFile failed. Trying audioread instead.\")\n"
     ]
    },
    {
     "name": "stdout",
     "output_type": "stream",
     "text": [
      "Extracting feature (392/450) : Concerto for oboe and small orchestra mv_I/split_007.wma"
     ]
    },
    {
     "name": "stderr",
     "output_type": "stream",
     "text": [
      "/usr/local/lib/python3.8/dist-packages/librosa/core/audio.py:165: UserWarning: PySoundFile failed. Trying audioread instead.\n",
      "  warnings.warn(\"PySoundFile failed. Trying audioread instead.\")\n"
     ]
    },
    {
     "name": "stdout",
     "output_type": "stream",
     "text": [
      "Extracting feature (393/450) : Concerto for oboe and small orchestra mv_I/split_008.wma"
     ]
    },
    {
     "name": "stderr",
     "output_type": "stream",
     "text": [
      "/usr/local/lib/python3.8/dist-packages/librosa/core/audio.py:165: UserWarning: PySoundFile failed. Trying audioread instead.\n",
      "  warnings.warn(\"PySoundFile failed. Trying audioread instead.\")\n"
     ]
    },
    {
     "name": "stdout",
     "output_type": "stream",
     "text": [
      "Extracting feature (394/450) : Concerto for oboe and small orchestra mv_I/split_009.wma"
     ]
    },
    {
     "name": "stderr",
     "output_type": "stream",
     "text": [
      "/usr/local/lib/python3.8/dist-packages/librosa/core/audio.py:165: UserWarning: PySoundFile failed. Trying audioread instead.\n",
      "  warnings.warn(\"PySoundFile failed. Trying audioread instead.\")\n"
     ]
    },
    {
     "name": "stdout",
     "output_type": "stream",
     "text": [
      "Extracting feature (395/450) : Concerto for oboe and small orchestra mv_I/split_010.wma"
     ]
    },
    {
     "name": "stderr",
     "output_type": "stream",
     "text": [
      "/usr/local/lib/python3.8/dist-packages/librosa/core/audio.py:165: UserWarning: PySoundFile failed. Trying audioread instead.\n",
      "  warnings.warn(\"PySoundFile failed. Trying audioread instead.\")\n"
     ]
    },
    {
     "name": "stdout",
     "output_type": "stream",
     "text": [
      "Extracting feature (396/450) : Concerto for oboe and small orchestra mv_I/split_011.wma"
     ]
    },
    {
     "name": "stderr",
     "output_type": "stream",
     "text": [
      "/usr/local/lib/python3.8/dist-packages/librosa/core/audio.py:165: UserWarning: PySoundFile failed. Trying audioread instead.\n",
      "  warnings.warn(\"PySoundFile failed. Trying audioread instead.\")\n"
     ]
    },
    {
     "name": "stdout",
     "output_type": "stream",
     "text": [
      "Extracting feature (397/450) : Concerto for oboe and small orchestra mv_I/split_012.wma"
     ]
    },
    {
     "name": "stderr",
     "output_type": "stream",
     "text": [
      "/usr/local/lib/python3.8/dist-packages/librosa/core/audio.py:165: UserWarning: PySoundFile failed. Trying audioread instead.\n",
      "  warnings.warn(\"PySoundFile failed. Trying audioread instead.\")\n"
     ]
    },
    {
     "name": "stdout",
     "output_type": "stream",
     "text": [
      "Extracting feature (398/450) : Concerto for oboe and small orchestra mv_I/split_013.wma"
     ]
    },
    {
     "name": "stderr",
     "output_type": "stream",
     "text": [
      "/usr/local/lib/python3.8/dist-packages/librosa/core/audio.py:165: UserWarning: PySoundFile failed. Trying audioread instead.\n",
      "  warnings.warn(\"PySoundFile failed. Trying audioread instead.\")\n"
     ]
    },
    {
     "name": "stdout",
     "output_type": "stream",
     "text": [
      "Extracting feature (399/450) : Concerto for oboe and small orchestra mv_I/split_014.wma"
     ]
    },
    {
     "name": "stderr",
     "output_type": "stream",
     "text": [
      "/usr/local/lib/python3.8/dist-packages/librosa/core/audio.py:165: UserWarning: PySoundFile failed. Trying audioread instead.\n",
      "  warnings.warn(\"PySoundFile failed. Trying audioread instead.\")\n"
     ]
    },
    {
     "name": "stdout",
     "output_type": "stream",
     "text": [
      "Extracting feature (400/450) : Concerto for oboe and small orchestra mv_I/split_015.wma"
     ]
    },
    {
     "name": "stderr",
     "output_type": "stream",
     "text": [
      "/usr/local/lib/python3.8/dist-packages/librosa/core/audio.py:165: UserWarning: PySoundFile failed. Trying audioread instead.\n",
      "  warnings.warn(\"PySoundFile failed. Trying audioread instead.\")\n"
     ]
    },
    {
     "name": "stdout",
     "output_type": "stream",
     "text": [
      "Extracting feature (401/450) : Concerto for oboe and small orchestra mv_I/split_016.wma"
     ]
    },
    {
     "name": "stderr",
     "output_type": "stream",
     "text": [
      "/usr/local/lib/python3.8/dist-packages/librosa/core/audio.py:165: UserWarning: PySoundFile failed. Trying audioread instead.\n",
      "  warnings.warn(\"PySoundFile failed. Trying audioread instead.\")\n"
     ]
    },
    {
     "name": "stdout",
     "output_type": "stream",
     "text": [
      "Extracting feature (402/450) : Concerto for oboe and small orchestra mv_I/split_017.wma"
     ]
    },
    {
     "name": "stderr",
     "output_type": "stream",
     "text": [
      "/usr/local/lib/python3.8/dist-packages/librosa/core/audio.py:165: UserWarning: PySoundFile failed. Trying audioread instead.\n",
      "  warnings.warn(\"PySoundFile failed. Trying audioread instead.\")\n"
     ]
    },
    {
     "name": "stdout",
     "output_type": "stream",
     "text": [
      "Extracting feature (403/450) : Concerto for oboe and small orchestra mv_I/split_018.wma"
     ]
    },
    {
     "name": "stderr",
     "output_type": "stream",
     "text": [
      "/usr/local/lib/python3.8/dist-packages/librosa/core/audio.py:165: UserWarning: PySoundFile failed. Trying audioread instead.\n",
      "  warnings.warn(\"PySoundFile failed. Trying audioread instead.\")\n"
     ]
    },
    {
     "name": "stdout",
     "output_type": "stream",
     "text": [
      "Extracting feature (404/450) : Concerto for oboe and small orchestra mv_I/split_019.wma"
     ]
    },
    {
     "name": "stderr",
     "output_type": "stream",
     "text": [
      "/usr/local/lib/python3.8/dist-packages/librosa/core/audio.py:165: UserWarning: PySoundFile failed. Trying audioread instead.\n",
      "  warnings.warn(\"PySoundFile failed. Trying audioread instead.\")\n"
     ]
    },
    {
     "name": "stdout",
     "output_type": "stream",
     "text": [
      "Extracting feature (405/450) : Concerto for oboe and small orchestra mv_I/split_020.wma"
     ]
    },
    {
     "name": "stderr",
     "output_type": "stream",
     "text": [
      "/usr/local/lib/python3.8/dist-packages/librosa/core/audio.py:165: UserWarning: PySoundFile failed. Trying audioread instead.\n",
      "  warnings.warn(\"PySoundFile failed. Trying audioread instead.\")\n"
     ]
    },
    {
     "name": "stdout",
     "output_type": "stream",
     "text": [
      "Extracting feature (406/450) : Concerto for oboe and small orchestra mv_I/split_021.wma"
     ]
    },
    {
     "name": "stderr",
     "output_type": "stream",
     "text": [
      "/usr/local/lib/python3.8/dist-packages/librosa/core/audio.py:165: UserWarning: PySoundFile failed. Trying audioread instead.\n",
      "  warnings.warn(\"PySoundFile failed. Trying audioread instead.\")\n"
     ]
    },
    {
     "name": "stdout",
     "output_type": "stream",
     "text": [
      "Extracting feature (407/450) : Concerto for oboe and small orchestra mv_I/split_022.wma"
     ]
    },
    {
     "name": "stderr",
     "output_type": "stream",
     "text": [
      "/usr/local/lib/python3.8/dist-packages/librosa/core/audio.py:165: UserWarning: PySoundFile failed. Trying audioread instead.\n",
      "  warnings.warn(\"PySoundFile failed. Trying audioread instead.\")\n"
     ]
    },
    {
     "name": "stdout",
     "output_type": "stream",
     "text": [
      "Extracting feature (408/450) : Concerto for oboe and small orchestra mv_I/split_023.wma"
     ]
    },
    {
     "name": "stderr",
     "output_type": "stream",
     "text": [
      "/usr/local/lib/python3.8/dist-packages/librosa/core/audio.py:165: UserWarning: PySoundFile failed. Trying audioread instead.\n",
      "  warnings.warn(\"PySoundFile failed. Trying audioread instead.\")\n"
     ]
    },
    {
     "name": "stdout",
     "output_type": "stream",
     "text": [
      "Extracting feature (409/450) : Concerto for oboe and small orchestra mv_I/split_024.wma"
     ]
    },
    {
     "name": "stderr",
     "output_type": "stream",
     "text": [
      "/usr/local/lib/python3.8/dist-packages/librosa/core/audio.py:165: UserWarning: PySoundFile failed. Trying audioread instead.\n",
      "  warnings.warn(\"PySoundFile failed. Trying audioread instead.\")\n"
     ]
    },
    {
     "name": "stdout",
     "output_type": "stream",
     "text": [
      "Extract completere (449/450) : Siciliana/split_001.wav : Siciliana/split_002.wav : Siciliana/split_003.wav : Siciliana/split_004.wav : Siciliana/split_005.wav : Siciliana/split_006.wav : Siciliana/split_007.wav : Siciliana/split_008.wav : Siciliana/split_009.wav : Siciliana/split_010.wav : Siciliana/split_011.wav : Siciliana/split_012.wav : Siciliana/split_013.wav : Adagio Religioso/split_001.wav : Adagio Religioso/split_002.wav : Adagio Religioso/split_003.wav : Adagio Religioso/split_004.wav : Adagio Religioso/split_005.wav : Adagio Religioso/split_006.wav : Adagio Religioso/split_007.wav : Adagio Religioso/split_008.wav : Adagio Religioso/split_009.wav : Adagio Religioso/split_010.wav : Adagio Religioso/split_011.wav : Adagio Religioso/split_012.wav : Adagio Religioso/split_013.wav : Adagio Religioso/split_014.wav : Adagio Religioso/split_015.wav : Adagio Religioso/split_016.wav : Adagio Religioso/split_017.wav : Adagio Religioso/split_018.wav : Adagio Religioso/split_020.wav : Adagio Religioso/split_021.wav : Autumn Island/split_001.wav : Autumn Island/split_002.wav : Autumn Island/split_003.wav : Autumn Island/split_004.wav : Autumn Island/split_005.wav : Autumn Island/split_006.wav : Autumn Island/split_007.wav\n",
      "train =  0.4869109947643979\n",
      "val =  0.4883720930232558\n",
      "[1]\n"
     ]
    }
   ],
   "source": [
    "model = SVM()\n",
    "model.Train('/workspace/Project1/Music-emotion/music-emotion/song')\n",
    "result = model.Predict('/workspace/Project1/Music-emotion/music-emotion/music00',DataPath+\"/Four Seasons_Summer 3rd movment/split_002.wav\")\n",
    "print(result)"
   ]
  },
  {
   "cell_type": "code",
   "execution_count": 7,
   "metadata": {
    "id": "rHywW8U2Z-m7"
   },
   "outputs": [],
   "source": [
    "import warnings\n",
    "warnings.filterwarnings(\"ignore\")\n",
    "class CNN:\n",
    "    def __init__(self, epoch=10, batch_size=8, verbose=1, sr=22050):\n",
    "        self.org_path = os.getcwd()\n",
    "        self.set_epoch = epoch\n",
    "        self.set_batch_size = batch_size\n",
    "        self.set_verbose = verbose\n",
    "        self.sr = sr\n",
    "\n",
    "    def LoadData(self, DataPath):\n",
    "        \"\"\"Load data from the directory.\n",
    "\n",
    "        Parameters\n",
    "        ----------\n",
    "        DataPath : string\n",
    "            The path where you store the data. Note that the path must contain every split music data and\n",
    "            MusicData.xlsx\n",
    "        \"\"\"\n",
    "        os.chdir(DataPath)\n",
    "        xlsx_module = xlrd.open_workbook('MusicData.xlsx')\n",
    "        xlsx_sheet = xlsx_module.sheets()[0]\n",
    "        data_info = []\n",
    "        for i in range(1, xlsx_sheet.nrows):\n",
    "            data_info.append(xlsx_sheet.row_values(i))\n",
    "        music_data = []\n",
    "        music_label = []\n",
    "        data_len = []\n",
    "        for i in range(len(data_info)):\n",
    "            # print(\"\\rLoading data ({}/{})\".format(i, len(data_info)), flush=True, end='')\n",
    "            # print(\" : {}/{}\".format(data_info[i][1], data_info[i][2] + data_info[i][5]), flush=True, end='')\n",
    "\n",
    "            os.chdir(data_info[i][1])\n",
    "            # raw_data, sr = librosa.load(data_info[i][2] + data_info[i][5], sr=22050, mono=True, offset=0.0, duration=4)\n",
    "            raw_data, sr = librosa.load(data_info[i][2] + data_info[i][5], sr=self.sr, mono=True, offset=0.0, duration=4)\n",
    "            music_data.append(raw_data)\n",
    "            data_len.append(raw_data.size)\n",
    "            arousal_s = data_info[i][3] - 50\n",
    "            valence_s = data_info[i][4] - 50\n",
    "            if arousal_s >= 0 and valence_s >= 0:  # Joy\n",
    "                music_label.append(0)\n",
    "            elif arousal_s >= 0 and valence_s < 0:  # Tension\n",
    "                music_label.append(1)\n",
    "            elif arousal_s < 0 and valence_s >= 0:  # Peacefulness\n",
    "                music_label.append(2)\n",
    "            elif arousal_s < 0 and valence_s < 0:  # Sadness\n",
    "                music_label.append(3)\n",
    "            os.chdir('..')\n",
    "        music_label = np.array(music_label)\n",
    "        data_len = np.array(data_len)\n",
    "\n",
    "        last_index = np.where(data_len == sr * 4)[0]\n",
    "        new_music_data = []\n",
    "        new_music_label = []\n",
    "        for i in range(last_index.size):\n",
    "            new_music_data.append(music_data[last_index[i]])\n",
    "            new_music_label.append(music_label[i])\n",
    "        new_music_data = np.array(new_music_data)\n",
    "        new_music_label = np.array(new_music_label)\n",
    "\n",
    "        new_music_data = np.reshape(new_music_data, [new_music_label.size, 1, self.sr*4, 1])\n",
    "        train_index, test_index = self.split_data(new_music_label, train_size=0.7)\n",
    "        train_data = new_music_data[train_index, :, :, :]\n",
    "        train_label = to_categorical(new_music_label[train_index])\n",
    "        test_data = new_music_data[test_index, :, :, :]\n",
    "        test_label = to_categorical(new_music_label[test_index])\n",
    "\n",
    "        return train_data, train_label, test_data, test_label\n",
    "\n",
    "    def split_data(self, label, train_size=0.7):\n",
    "        import random\n",
    "        uni_label = np.unique(label)\n",
    "        uni_label_num = [[] for i in range(uni_label.size)]\n",
    "        train_index = np.array([], dtype='uint32')\n",
    "        for i in range(uni_label.size):\n",
    "            uni_label_num = list(np.where(label == uni_label[i])[0])\n",
    "            train_index = np.hstack(\n",
    "                [train_index, np.array(random.sample(uni_label_num, k=int(len(uni_label_num) * train_size)))])\n",
    "        train_index = np.sort(train_index)\n",
    "        test_index = np.setdiff1d(np.arange(label.size), train_index)\n",
    "\n",
    "        return train_index, test_index\n",
    "\n",
    "    def CreateModel(self, InputShape):\n",
    "        \"\"\"Create CNN model\n",
    "\n",
    "        Parameters\n",
    "        ----------\n",
    "        InputShape :\n",
    "            The shape of training data\n",
    "        \"\"\"\n",
    "        sig_input = Input(shape=InputShape)\n",
    "        x1_1=Conv2D(128,(1,256),kernel_initializer='random_uniform',padding='same',data_format='channels_last')(sig_input)\n",
    "        x1_1=(Activation('relu'))(x1_1)\n",
    "        x1_1=(BatchNormalization())(x1_1)\n",
    "        x1_1=MaxPooling2D((1,80),strides=(1,40),data_format='channels_last')(x1_1)\n",
    "        x1_2=Conv2D(128,(1,512),kernel_initializer='random_uniform',padding='same',data_format='channels_last')(x1_1)\n",
    "        x1_2=(Activation('relu'))(x1_2)\n",
    "        x1_2=(BatchNormalization())(x1_2)\n",
    "        x1_o=add([x1_1,x1_2])\n",
    "        x2=Conv2D(32,(1,1024),kernel_initializer='random_uniform',padding='same',data_format='channels_last')(x1_o)\n",
    "        x2=(Activation('relu'))(x2)\n",
    "        x2=(BatchNormalization())(x2)\n",
    "        x2=MaxPooling2D((1,80),strides=(1,40),data_format='channels_last')(x2)\n",
    "        y=(Flatten())(x2)\n",
    "        y=(Dropout(0.4))(y)\n",
    "        y=(Dense(units=64,activation='relu'))(y)\n",
    "        y=(Dropout(0.4))(y)\n",
    "        output=(Dense(units=4,activation='softmax'))(y)\n",
    "        model = Model(sig_input, output)\n",
    "\n",
    "        model.compile(optimizer='adam',\n",
    "                      loss='categorical_crossentropy',\n",
    "                      metrics=['accuracy'])\n",
    "\n",
    "        return model\n",
    "\n",
    "    def Train(self, DataPath):\n",
    "        \"\"\"Train data with CNN model\n",
    "\n",
    "        Parameters\n",
    "        ----------\n",
    "        DataPath : string\n",
    "            The path where you store the data. Note that the path must contain every split music data and\n",
    "            MusicData.xlsx\n",
    "        \"\"\"\n",
    "        train_data, train_label, test_data, test_label = self.LoadData(DataPath)\n",
    "        model = self.CreateModel(train_data.shape[1:])\n",
    "\n",
    "        train_history = model.fit(x=train_data,\n",
    "                                  y=train_label,\n",
    "                                  validation_data=(test_data, test_label),\n",
    "                                  epochs=self.set_epoch,\n",
    "                                  batch_size=self.set_batch_size,\n",
    "                                  verbose=self.set_verbose)\n",
    "        os.chdir(self.org_path)\n",
    "        model.save('music_cnn.model')\n",
    "\n",
    "        # %% Model accuracy\n",
    "        y1 = train_history.history['acc']\n",
    "        y2 = train_history.history['val_acc']\n",
    "        x = np.arange(len(y1)) + 1\n",
    "        plt.plot(x, y1, color='blue', label='Train')\n",
    "        plt.plot(x, y2, color='red', label='Validation')\n",
    "        plt.title(\"accuracy\")\n",
    "        plt.xlabel(\"Epoch\")\n",
    "        plt.ylabel(\"Accuracy (%)\")\n",
    "        plt.legend(loc='upper left', shadow=True)\n",
    "        plt.savefig('accuracy', dpi=1500)\n",
    "        plt.show()\n",
    "\n",
    "        # %% Model loss value\n",
    "        y1 = train_history.history['loss']\n",
    "\n",
    "\n",
    "        y2 = train_history.history['val_loss']\n",
    "        x = np.arange(len(y1)) + 1\n",
    "        plt.plot(x, y1, color='blue', label='Train')\n",
    "        plt.plot(x, y2, color='red', label='Validation')\n",
    "        plt.title(\"loss\")\n",
    "        plt.xlabel(\"Epoch\")\n",
    "        plt.ylabel(\"loss\")\n",
    "        plt.legend(loc='upper right', shadow=True)\n",
    "        plt.savefig('loss', dpi=1500)\n",
    "        plt.show()\n",
    "\n",
    "    def Predict(self, ModelPath, InputData):\n",
    "        \"\"\"Predict the input with the given model\n",
    "\n",
    "        Parameters\n",
    "        ----------\n",
    "        ModelPath : string\n",
    "            The path where you store the model.\n",
    "        InputData : string\n",
    "            The path of input data, predict one data at one time.\n",
    "        \"\"\"\n",
    "        raw_data, sr = librosa.load(InputData, sr=self.sr, mono=True, offset=0.0, duration=4)\n",
    "        model = load_model(ModelPath)\n",
    "        music_data = np.reshape(raw_data, [1, 1, self.sr*4, 1])\n",
    "        score = model.predict(music_data)\n",
    "        pre_label = np.argmax(score)\n",
    "\n",
    "        return pre_label"
   ]
  },
  {
   "cell_type": "code",
   "execution_count": null,
   "metadata": {
    "colab": {
     "base_uri": "https://localhost:8080/"
    },
    "id": "CqUmisRipwbv",
    "outputId": "8bf2b619-0774-4011-970a-38fb359a5b7b",
    "tags": []
   },
   "outputs": [
    {
     "name": "stdout",
     "output_type": "stream",
     "text": [
      "Train on 296 samples, validate on 129 samples\n",
      "Epoch 1/10\n",
      "296/296 [==============================] - 6s 21ms/sample - loss: 3.0209 - acc: 0.2770 - val_loss: 2.4718 - val_acc: 0.3721\n",
      "Epoch 2/10\n",
      "296/296 [==============================] - 6s 19ms/sample - loss: 2.1528 - acc: 0.2872 - val_loss: 1.8150 - val_acc: 0.3566\n",
      "Epoch 3/10\n",
      "296/296 [==============================] - 5s 18ms/sample - loss: 2.0329 - acc: 0.3514 - val_loss: 2.3275 - val_acc: 0.1318\n",
      "Epoch 4/10\n",
      "296/296 [==============================] - 6s 19ms/sample - loss: 1.9281 - acc: 0.3750 - val_loss: 2.3896 - val_acc: 0.2946\n",
      "Epoch 5/10\n",
      "296/296 [==============================] - 5s 18ms/sample - loss: 1.6080 - acc: 0.4122 - val_loss: 2.6629 - val_acc: 0.3566\n",
      "Epoch 6/10\n",
      "296/296 [==============================] - 5s 17ms/sample - loss: 1.6158 - acc: 0.3885 - val_loss: 2.3225 - val_acc: 0.3798\n",
      "Epoch 7/10\n",
      "296/296 [==============================] - 5s 17ms/sample - loss: 1.4968 - acc: 0.3750 - val_loss: 1.3827 - val_acc: 0.3101\n",
      "Epoch 8/10\n",
      "296/296 [==============================] - 5s 17ms/sample - loss: 1.4974 - acc: 0.4020 - val_loss: 1.9015 - val_acc: 0.3953\n",
      "Epoch 9/10\n",
      "296/296 [==============================] - 7s 22ms/sample - loss: 1.3368 - acc: 0.4155 - val_loss: 1.4317 - val_acc: 0.3798\n",
      "Epoch 10/10\n",
      "296/296 [==============================] - 5s 18ms/sample - loss: 1.2248 - acc: 0.4527 - val_loss: 1.5617 - val_acc: 0.3798\n"
     ]
    },
    {
     "data": {
      "image/png": "[encoded data removed]",
      "text/plain": [
       "<Figure size 432x288 with 1 Axes>"
      ]
     },
     "metadata": {
      "needs_background": "light"
     },
     "output_type": "display_data"
    }
   ],
   "source": [
    "model = CNN()\n",
    "model.Train(DataPath)\n",
    "result = model.Predict('/workspace/Project1/Music-emotion/music-emotion/music_cnn.model', DataPath+\"Four Seasons_Summer 3rd movment/split_002.wav\")\n",
    "print(result)"
   ]
  },
  {
   "cell_type": "code",
   "execution_count": null,
   "metadata": {
    "id": "dW1666Esj3n9"
   },
   "outputs": [],
   "source": []
  }
 ],
 "metadata": {
  "accelerator": "GPU",
  "colab": {
   "collapsed_sections": [],
   "name": "Music_emotion_models.ipynb",
   "provenance": []
  },
  "kernelspec": {
   "display_name": "Python 3 (ipykernel)",
   "language": "python",
   "name": "python3"
  },
  "language_info": {
   "codemirror_mode": {
    "name": "ipython",
    "version": 3
   },
   "file_extension": ".py",
   "mimetype": "text/x-python",
   "name": "python",
   "nbconvert_exporter": "python",
   "pygments_lexer": "ipython3",
   "version": "3.8.10"
  }
 },
 "nbformat": 4,
 "nbformat_minor": 4
}
